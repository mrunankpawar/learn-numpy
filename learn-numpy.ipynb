{
 "cells": [
  {
   "cell_type": "markdown",
   "id": "a468d48e",
   "metadata": {},
   "source": [
    "##### ⏳ Load numpy"
   ]
  },
  {
   "cell_type": "code",
   "execution_count": null,
   "id": "d9a05d8e",
   "metadata": {},
   "outputs": [],
   "source": [
    "import numpy as np\n",
    "import os"
   ]
  },
  {
   "cell_type": "markdown",
   "id": "dc92f5f8",
   "metadata": {},
   "source": [
    "##### ⚡️ The Basics"
   ]
  },
  {
   "cell_type": "code",
   "execution_count": null,
   "id": "a1637128",
   "metadata": {},
   "outputs": [],
   "source": [
    "a = np.array([1,2,3], dtype=\"int16\")\n",
    "print(a)"
   ]
  },
  {
   "cell_type": "code",
   "execution_count": null,
   "id": "c5e799f5",
   "metadata": {},
   "outputs": [],
   "source": [
    "b = np.array([[1.0, 3.0, 6.0], [4.0,5.0,4.0]])\n",
    "print(b)"
   ]
  },
  {
   "cell_type": "code",
   "execution_count": null,
   "id": "f5a49102",
   "metadata": {},
   "outputs": [],
   "source": [
    "# Get dimension\n",
    "a.ndim"
   ]
  },
  {
   "cell_type": "code",
   "execution_count": null,
   "id": "8ca1f0b9",
   "metadata": {
    "scrolled": true
   },
   "outputs": [],
   "source": [
    "# Get shape\n",
    "b.shape"
   ]
  },
  {
   "cell_type": "code",
   "execution_count": null,
   "id": "9b1b2cb9",
   "metadata": {},
   "outputs": [],
   "source": [
    "# Get datatype\n",
    "a.dtype"
   ]
  },
  {
   "cell_type": "code",
   "execution_count": null,
   "id": "7baa5554",
   "metadata": {},
   "outputs": [],
   "source": [
    "# Get size\n",
    "a.itemsize"
   ]
  },
  {
   "cell_type": "code",
   "execution_count": null,
   "id": "f70313d1",
   "metadata": {},
   "outputs": [],
   "source": [
    "# Get total size\n",
    "# a.size * a.itemsize\n",
    "a.nbytes"
   ]
  },
  {
   "cell_type": "markdown",
   "id": "d6409bfb",
   "metadata": {},
   "source": [
    "##### 🧩 Accessing/ Changing specific elements, rows, columns, etc."
   ]
  },
  {
   "cell_type": "code",
   "execution_count": null,
   "id": "88c84db6",
   "metadata": {},
   "outputs": [],
   "source": [
    "a = np.array([[1,2,3,4,5,6,7], [8,9,10,11,12,13,14]])\n",
    "print(a)"
   ]
  },
  {
   "cell_type": "code",
   "execution_count": null,
   "id": "5ab9dd64",
   "metadata": {},
   "outputs": [],
   "source": [
    "# Get specific element [r, c]\n",
    "a[1, 5]"
   ]
  },
  {
   "cell_type": "code",
   "execution_count": null,
   "id": "7be4f5f6",
   "metadata": {},
   "outputs": [],
   "source": [
    "# Get specific row\n",
    "a[0, :]"
   ]
  },
  {
   "cell_type": "code",
   "execution_count": null,
   "id": "f508fbf3",
   "metadata": {},
   "outputs": [],
   "source": [
    "# Get specific column\n",
    "a[:, 5]"
   ]
  },
  {
   "cell_type": "code",
   "execution_count": null,
   "id": "5f2d8ec8",
   "metadata": {},
   "outputs": [],
   "source": [
    "# Getting into more details\n",
    "a[0, 0:5:2]"
   ]
  },
  {
   "cell_type": "code",
   "execution_count": null,
   "id": "85a6aa1c",
   "metadata": {},
   "outputs": [],
   "source": [
    "# Changing a particular element\n",
    "a[1, 5] = 20\n",
    "\n",
    "a[:, 2] = [5, 10]\n",
    "print(a)"
   ]
  },
  {
   "cell_type": "code",
   "execution_count": null,
   "id": "81c57b8e",
   "metadata": {},
   "outputs": [],
   "source": [
    "# 3-D example\n",
    "\n",
    "b = np.array([[[1,2], [3,4]], [[5,6], [7,8]]])\n",
    "print(b)"
   ]
  },
  {
   "cell_type": "code",
   "execution_count": null,
   "id": "9697a588",
   "metadata": {},
   "outputs": [],
   "source": [
    "# Get specific element (work outside-in)\n",
    "b[0, 1, 1]"
   ]
  },
  {
   "cell_type": "code",
   "execution_count": null,
   "id": "b1bf3d44",
   "metadata": {},
   "outputs": [],
   "source": [
    "# replace\n",
    "b[:, 1, :] = [[9,9], [8,8]]\n",
    "print(b)"
   ]
  },
  {
   "cell_type": "markdown",
   "id": "89b884ac",
   "metadata": {},
   "source": [
    "##### 🏁 Initializing different types of arrays"
   ]
  },
  {
   "cell_type": "code",
   "execution_count": null,
   "id": "f2f55360",
   "metadata": {},
   "outputs": [],
   "source": [
    "# All 0s matrix\n",
    "np.zeros([5,5], dtype='int')"
   ]
  },
  {
   "cell_type": "code",
   "execution_count": null,
   "id": "26c943d1",
   "metadata": {},
   "outputs": [],
   "source": [
    "# All 1s matrix\n",
    "ones = np.ones([2,3,3], dtype='int64')\n",
    "print(ones)"
   ]
  },
  {
   "cell_type": "code",
   "execution_count": null,
   "id": "1af8a204",
   "metadata": {},
   "outputs": [],
   "source": [
    "# any other number\n",
    "np.full([2,2], 10)"
   ]
  },
  {
   "cell_type": "code",
   "execution_count": null,
   "id": "eb949b34",
   "metadata": {},
   "outputs": [],
   "source": [
    "# full_like or a.shape \n",
    "np.full(a.shape, 5)"
   ]
  },
  {
   "cell_type": "code",
   "execution_count": null,
   "id": "5be9d2f5",
   "metadata": {},
   "outputs": [],
   "source": [
    "# random decimal number\n",
    "np.random.rand(4,2)"
   ]
  },
  {
   "cell_type": "code",
   "execution_count": null,
   "id": "1bf215df",
   "metadata": {},
   "outputs": [],
   "source": [
    "# random integer values (start, end, size = (x, y))\n",
    "np.random.randint(0, 10, size=(2,3))"
   ]
  },
  {
   "cell_type": "code",
   "execution_count": null,
   "id": "8a97ccfd",
   "metadata": {},
   "outputs": [],
   "source": [
    "# Identity matrix\n",
    "np.identity(3)"
   ]
  },
  {
   "cell_type": "code",
   "execution_count": null,
   "id": "3c4dad04",
   "metadata": {},
   "outputs": [],
   "source": [
    "# repeat an array\n",
    "arr = np.array([[1, 2, 3]])\n",
    "r1 = np.repeat(arr, 3, axis=0)\n",
    "print(r1)"
   ]
  },
  {
   "cell_type": "code",
   "execution_count": null,
   "id": "b3537a43",
   "metadata": {},
   "outputs": [],
   "source": [
    "# TASK\n",
    "output = np.ones([5,5], dtype='int32')\n",
    "# print(output)\n",
    "\n",
    "z = np.zeros([3,3], dtype='int32')\n",
    "z[1,1] = 9\n",
    "# print(z)\n",
    "\n",
    "output[1:-1, 1:-1] = z\n",
    "print(output)"
   ]
  },
  {
   "cell_type": "markdown",
   "id": "24f52435",
   "metadata": {},
   "source": [
    "##### ⚠️ Caution: Copying arrays"
   ]
  },
  {
   "cell_type": "code",
   "execution_count": null,
   "id": "c7207b68",
   "metadata": {},
   "outputs": [],
   "source": [
    "a = np.array([1,2,3])\n",
    "b = a.copy()\n",
    "b[1] = 200\n",
    "print(a)"
   ]
  },
  {
   "cell_type": "markdown",
   "id": "7ef5d02e",
   "metadata": {},
   "source": [
    "##### 🧮 Mathematics"
   ]
  },
  {
   "cell_type": "code",
   "execution_count": null,
   "id": "a922ec3d",
   "metadata": {},
   "outputs": [],
   "source": [
    "a = np.array([1,2,3,4])\n",
    "a"
   ]
  },
  {
   "cell_type": "code",
   "execution_count": null,
   "id": "fef02485",
   "metadata": {},
   "outputs": [],
   "source": [
    "a + 2"
   ]
  },
  {
   "cell_type": "code",
   "execution_count": null,
   "id": "65ec104c",
   "metadata": {},
   "outputs": [],
   "source": [
    "a - 2"
   ]
  },
  {
   "cell_type": "code",
   "execution_count": null,
   "id": "f2cec906",
   "metadata": {},
   "outputs": [],
   "source": [
    "a * 2"
   ]
  },
  {
   "cell_type": "code",
   "execution_count": null,
   "id": "602bcd7e",
   "metadata": {},
   "outputs": [],
   "source": [
    "a / 2"
   ]
  },
  {
   "cell_type": "code",
   "execution_count": null,
   "id": "0c4aad80",
   "metadata": {},
   "outputs": [],
   "source": [
    "b = np.array([1,0,2,4])\n",
    "b"
   ]
  },
  {
   "cell_type": "code",
   "execution_count": null,
   "id": "20bdf5a8",
   "metadata": {},
   "outputs": [],
   "source": [
    "a + b"
   ]
  },
  {
   "cell_type": "code",
   "execution_count": null,
   "id": "0c6f9ca0",
   "metadata": {},
   "outputs": [],
   "source": [
    "a ** 2"
   ]
  },
  {
   "cell_type": "code",
   "execution_count": null,
   "id": "8d88f395",
   "metadata": {},
   "outputs": [],
   "source": [
    "# Take the sines and cosines\n",
    "np.sin(a)\n",
    "np.cos(a)"
   ]
  },
  {
   "cell_type": "markdown",
   "id": "4d8fcae9",
   "metadata": {},
   "source": [
    "##### 📏 Linear Algebra"
   ]
  },
  {
   "cell_type": "code",
   "execution_count": null,
   "id": "0ff1cb37",
   "metadata": {},
   "outputs": [],
   "source": [
    "a = np.ones([2,3])\n",
    "print(a)\n",
    "\n",
    "b = np.full((3,2), 2)\n",
    "print(b)\n",
    "\n",
    "np.matmul(a, b)"
   ]
  },
  {
   "cell_type": "code",
   "execution_count": null,
   "id": "4af71279",
   "metadata": {},
   "outputs": [],
   "source": [
    "# Find the determinant\n",
    "c = np.identity(5)\n",
    "np.linalg.det(c)"
   ]
  },
  {
   "cell_type": "markdown",
   "id": "146a23af",
   "metadata": {},
   "source": [
    "##### 📊 Statistics"
   ]
  },
  {
   "cell_type": "code",
   "execution_count": null,
   "id": "bfe895bd",
   "metadata": {},
   "outputs": [],
   "source": [
    "stats = np.array([[1,2,3], [4,5,6]])\n",
    "stats"
   ]
  },
  {
   "cell_type": "code",
   "execution_count": null,
   "id": "7ced2621",
   "metadata": {},
   "outputs": [],
   "source": [
    "np.min(stats)"
   ]
  },
  {
   "cell_type": "code",
   "execution_count": null,
   "id": "cf0f870f",
   "metadata": {},
   "outputs": [],
   "source": [
    "np.max(stats)"
   ]
  },
  {
   "cell_type": "code",
   "execution_count": null,
   "id": "4d52b4cf",
   "metadata": {},
   "outputs": [],
   "source": [
    "np.sum(stats)"
   ]
  },
  {
   "cell_type": "markdown",
   "id": "5d561188",
   "metadata": {},
   "source": [
    "##### 🔁 Reorganizing arrays"
   ]
  },
  {
   "cell_type": "code",
   "execution_count": null,
   "id": "664662c6",
   "metadata": {},
   "outputs": [],
   "source": [
    "before = np.array([[1,2,3,4], [5,6,7,8]])\n",
    "print(before)\n",
    "print(before.shape)\n",
    "\n",
    "after = before.reshape([4,2])\n",
    "print(after)"
   ]
  },
  {
   "cell_type": "code",
   "execution_count": null,
   "id": "c79eec3f",
   "metadata": {},
   "outputs": [],
   "source": [
    "# Vertically stacking vectors\n",
    "v1 = np.array([1,2,3,4])\n",
    "v2 = np.array([5,6,7,8])\n",
    "\n",
    "np.vstack([v1,v2, v1, v1])"
   ]
  },
  {
   "cell_type": "code",
   "execution_count": null,
   "id": "bf6c4852",
   "metadata": {},
   "outputs": [],
   "source": [
    "# Horizontal stack\n",
    "h1 = np.zeros([2,2], dtype='int32')\n",
    "h2 = np.ones([2,3], dtype='int32')\n",
    "\n",
    "hst = np.hstack([h1,h2,h1,h2])\n",
    "print(hst)"
   ]
  },
  {
   "cell_type": "markdown",
   "id": "96565500",
   "metadata": {},
   "source": [
    "##### ✨ Miscellaneous"
   ]
  },
  {
   "cell_type": "code",
   "execution_count": null,
   "id": "ec2269c0",
   "metadata": {},
   "outputs": [],
   "source": [
    "a = np.array([1,2,3,4,5,6,7,8,9])\n",
    "a[[1, 3, 8]]"
   ]
  },
  {
   "cell_type": "code",
   "execution_count": null,
   "id": "40557f13",
   "metadata": {},
   "outputs": [],
   "source": []
  }
 ],
 "metadata": {
  "kernelspec": {
   "display_name": "Python 3 (ipykernel)",
   "language": "python",
   "name": "python3"
  },
  "language_info": {
   "codemirror_mode": {
    "name": "ipython",
    "version": 3
   },
   "file_extension": ".py",
   "mimetype": "text/x-python",
   "name": "python",
   "nbconvert_exporter": "python",
   "pygments_lexer": "ipython3",
   "version": "3.9.7"
  }
 },
 "nbformat": 4,
 "nbformat_minor": 5
}
